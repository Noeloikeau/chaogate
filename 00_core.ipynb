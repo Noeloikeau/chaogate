{
 "cells": [
  {
   "cell_type": "code",
   "execution_count": null,
   "id": "finnish-librarian",
   "metadata": {},
   "outputs": [],
   "source": [
    "# default_exp core"
   ]
  },
  {
   "cell_type": "markdown",
   "id": "reasonable-costa",
   "metadata": {},
   "source": [
    "# core\n",
    "\n",
    "> Primary functions for using `pyspice` to simulate the 3-MOSFET circuit known as a Chaogate."
   ]
  },
  {
   "cell_type": "code",
   "execution_count": null,
   "id": "martial-advance",
   "metadata": {},
   "outputs": [],
   "source": [
    "#hide\n",
    "from nbdev import *\n",
    "from nbdev.imports import *\n",
    "from nbdev.export import *\n",
    "from nbdev.sync import *\n",
    "from nbdev.showdoc import *"
   ]
  },
  {
   "cell_type": "code",
   "execution_count": null,
   "id": "manual-workplace",
   "metadata": {},
   "outputs": [],
   "source": [
    "#hide\n",
    "%load_ext autoreload\n",
    "%autoreload 2"
   ]
  },
  {
   "cell_type": "markdown",
   "id": "macro-framing",
   "metadata": {},
   "source": [
    "# imports"
   ]
  },
  {
   "cell_type": "code",
   "execution_count": null,
   "id": "based-flour",
   "metadata": {},
   "outputs": [],
   "source": [
    "#exports\n",
    "import warnings\n",
    "with warnings.catch_warnings(): #ignore warnings\n",
    "    warnings.simplefilter(\"ignore\")\n",
    "    \n",
    "    import copy\n",
    "    import os\n",
    "    import matplotlib.pyplot as plt\n",
    "    import numpy as np\n",
    "    import gzip\n",
    "    import numba\n",
    "    from numba import njit\n",
    "    import sidis\n",
    "    import xarray as xr\n",
    "\n",
    "    import PySpice.Logging.Logging as Logging\n",
    "    from PySpice.Doc.ExampleTools import find_libraries\n",
    "    from PySpice.Spice.Library import SpiceLibrary\n",
    "    from PySpice.Spice.Netlist import Circuit\n",
    "    from PySpice.Unit import *\n",
    "    \n",
    "    import nptyping\n",
    "    from nptyping import NDArray as Array\n",
    "    from nptyping import get_type,Int,Float\n",
    "    import typing\n",
    "    from typing import (Optional, Tuple, Dict, Callable, \n",
    "                        Union, Mapping, Sequence, Iterable, \n",
    "                        Hashable, List, Any)\n",
    "    \n",
    "    from tqdm import tqdm"
   ]
  },
  {
   "cell_type": "code",
   "execution_count": null,
   "id": "featured-hampton",
   "metadata": {},
   "outputs": [
    {
     "name": "stderr",
     "output_type": "stream",
     "text": [
      "exception UnsupportedOperation('fileno') while fixing up sys.stdout and sys.stderr\n"
     ]
    },
    {
     "ename": "TypeError",
     "evalue": "startswith first arg must be bytes or a tuple of bytes, not str",
     "output_type": "error",
     "traceback": [
      "\u001b[1;31m---------------------------------------------------------------------------\u001b[0m",
      "\u001b[1;31mTypeError\u001b[0m                                 Traceback (most recent call last)",
      "\u001b[1;32m<ipython-input-9-732dea165211>\u001b[0m in \u001b[0;36m<module>\u001b[1;34m\u001b[0m\n\u001b[0;32m    178\u001b[0m         \u001b[1;32mwhile\u001b[0m \u001b[0mlen\u001b[0m\u001b[1;33m(\u001b[0m\u001b[0margv\u001b[0m\u001b[1;33m)\u001b[0m \u001b[1;33m>\u001b[0m \u001b[1;36m0\u001b[0m\u001b[1;33m:\u001b[0m\u001b[1;33m\u001b[0m\u001b[1;33m\u001b[0m\u001b[0m\n\u001b[0;32m    179\u001b[0m             \u001b[0marg\u001b[0m \u001b[1;33m=\u001b[0m \u001b[0margv\u001b[0m\u001b[1;33m[\u001b[0m\u001b[1;36m0\u001b[0m\u001b[1;33m]\u001b[0m\u001b[1;33m\u001b[0m\u001b[1;33m\u001b[0m\u001b[0m\n\u001b[1;32m--> 180\u001b[1;33m             \u001b[1;32mif\u001b[0m \u001b[1;32mnot\u001b[0m \u001b[0marg\u001b[0m\u001b[1;33m.\u001b[0m\u001b[0mstartswith\u001b[0m\u001b[1;33m(\u001b[0m\u001b[1;34mu\"-\"\u001b[0m\u001b[1;33m)\u001b[0m \u001b[1;32mor\u001b[0m \u001b[0marg\u001b[0m \u001b[1;33m==\u001b[0m \u001b[1;34mu\"-\"\u001b[0m\u001b[1;33m:\u001b[0m\u001b[1;33m\u001b[0m\u001b[1;33m\u001b[0m\u001b[0m\n\u001b[0m\u001b[0;32m    181\u001b[0m                 \u001b[1;32mbreak\u001b[0m\u001b[1;33m\u001b[0m\u001b[1;33m\u001b[0m\u001b[0m\n\u001b[0;32m    182\u001b[0m             \u001b[0margv\u001b[0m \u001b[1;33m=\u001b[0m \u001b[0margv\u001b[0m\u001b[1;33m[\u001b[0m\u001b[1;36m1\u001b[0m\u001b[1;33m:\u001b[0m\u001b[1;33m]\u001b[0m\u001b[1;33m\u001b[0m\u001b[1;33m\u001b[0m\u001b[0m\n",
      "\u001b[1;31mTypeError\u001b[0m: startswith first arg must be bytes or a tuple of bytes, not str"
     ]
    }
   ],
   "source": [
    "#hide\n",
    "#import codecs\n",
    "#codecs.register(lambda name: codecs.lookup('utf-8') if name == 'u25ba' else None)\n",
    "import sys\n",
    "if sys.platform == \"win32\":\n",
    "    import codecs\n",
    "    from ctypes import WINFUNCTYPE, windll, POINTER, byref, c_int\n",
    "    from ctypes.wintypes import BOOL, HANDLE, DWORD, LPWSTR, LPCWSTR, LPVOID\n",
    "\n",
    "    original_stderr = sys.stderr\n",
    "\n",
    "    # If any exception occurs in this code, we'll probably try to print it on stderr,\n",
    "    # which makes for frustrating debugging if stderr is directed to our wrapper.\n",
    "    # So be paranoid about catching errors and reporting them to original_stderr,\n",
    "    # so that we can at least see them.\n",
    "    def _complain(message):\n",
    "        #print(<message>, file=<output_stream>)\n",
    "        print(message if isinstance(message, str) else repr(message),file=original_stderr)\n",
    "        #print >>original_stderr, message if isinstance(message, str) else repr(message)\n",
    "\n",
    "    # Work around <http://bugs.python.org/issue6058>.\n",
    "    codecs.register(lambda name: codecs.lookup('utf-8') if name == 'cp65001' else None)\n",
    "\n",
    "    # Make Unicode console output work independently of the current code page.\n",
    "    # This also fixes <http://bugs.python.org/issue1602>.\n",
    "    # Credit to Michael Kaplan <http://www.siao2.com/2010/04/07/9989346.aspx>\n",
    "    # and TZOmegaTZIOY\n",
    "    # <http://stackoverflow.com/questions/878972/windows-cmd-encoding-change-causes-python-crash/1432462#1432462>.\n",
    "    try:\n",
    "        # <http://msdn.microsoft.com/en-us/library/ms683231(VS.85).aspx>\n",
    "        # HANDLE WINAPI GetStdHandle(DWORD nStdHandle);\n",
    "        # returns INVALID_HANDLE_VALUE, NULL, or a valid handle\n",
    "        #\n",
    "        # <http://msdn.microsoft.com/en-us/library/aa364960(VS.85).aspx>\n",
    "        # DWORD WINAPI GetFileType(DWORD hFile);\n",
    "        #\n",
    "        # <http://msdn.microsoft.com/en-us/library/ms683167(VS.85).aspx>\n",
    "        # BOOL WINAPI GetConsoleMode(HANDLE hConsole, LPDWORD lpMode);\n",
    "\n",
    "        GetStdHandle = WINFUNCTYPE(HANDLE, DWORD)((\"GetStdHandle\", windll.kernel32))\n",
    "        STD_OUTPUT_HANDLE = DWORD(-11)\n",
    "        STD_ERROR_HANDLE = DWORD(-12)\n",
    "        GetFileType = WINFUNCTYPE(DWORD, DWORD)((\"GetFileType\", windll.kernel32))\n",
    "        FILE_TYPE_CHAR = 0x0002\n",
    "        FILE_TYPE_REMOTE = 0x8000\n",
    "        GetConsoleMode = WINFUNCTYPE(BOOL, HANDLE, POINTER(DWORD))((\"GetConsoleMode\", windll.kernel32))\n",
    "        INVALID_HANDLE_VALUE = DWORD(-1).value\n",
    "\n",
    "        def not_a_console(handle):\n",
    "            if handle == INVALID_HANDLE_VALUE or handle is None:\n",
    "                return True\n",
    "            return ((GetFileType(handle) & ~FILE_TYPE_REMOTE) != FILE_TYPE_CHAR\n",
    "                    or GetConsoleMode(handle, byref(DWORD())) == 0)\n",
    "\n",
    "        old_stdout_fileno = None\n",
    "        old_stderr_fileno = None\n",
    "        if hasattr(sys.stdout, 'fileno'):\n",
    "            old_stdout_fileno = sys.stdout.fileno()\n",
    "        if hasattr(sys.stderr, 'fileno'):\n",
    "            old_stderr_fileno = sys.stderr.fileno()\n",
    "\n",
    "        STDOUT_FILENO = 1\n",
    "        STDERR_FILENO = 2\n",
    "        real_stdout = (old_stdout_fileno == STDOUT_FILENO)\n",
    "        real_stderr = (old_stderr_fileno == STDERR_FILENO)\n",
    "\n",
    "        if real_stdout:\n",
    "            hStdout = GetStdHandle(STD_OUTPUT_HANDLE)\n",
    "            if not_a_console(hStdout):\n",
    "                real_stdout = False\n",
    "\n",
    "        if real_stderr:\n",
    "            hStderr = GetStdHandle(STD_ERROR_HANDLE)\n",
    "            if not_a_console(hStderr):\n",
    "                real_stderr = False\n",
    "\n",
    "        if real_stdout or real_stderr:\n",
    "            # BOOL WINAPI WriteConsoleW(HANDLE hOutput, LPWSTR lpBuffer, DWORD nChars,\n",
    "            #                           LPDWORD lpCharsWritten, LPVOID lpReserved);\n",
    "\n",
    "            WriteConsoleW = WINFUNCTYPE(BOOL, HANDLE, LPWSTR, DWORD, POINTER(DWORD), LPVOID)((\"WriteConsoleW\", windll.kernel32))\n",
    "\n",
    "            class UnicodeOutput:\n",
    "                def __init__(self, hConsole, stream, fileno, name):\n",
    "                    self._hConsole = hConsole\n",
    "                    self._stream = stream\n",
    "                    self._fileno = fileno\n",
    "                    self.closed = False\n",
    "                    self.softspace = False\n",
    "                    self.mode = 'w'\n",
    "                    self.encoding = 'utf-8'\n",
    "                    self.name = name\n",
    "                    self.flush()\n",
    "\n",
    "                def isatty(self):\n",
    "                    return False\n",
    "\n",
    "                def close(self):\n",
    "                    # don't really close the handle, that would only cause problems\n",
    "                    self.closed = True\n",
    "\n",
    "                def fileno(self):\n",
    "                    return self._fileno\n",
    "\n",
    "                def flush(self):\n",
    "                    if self._hConsole is None:\n",
    "                        try:\n",
    "                            self._stream.flush()\n",
    "                        except Exception as e:\n",
    "                            _complain(\"%s.flush: %r from %r\" % (self.name, e, self._stream))\n",
    "                            raise\n",
    "\n",
    "                def write(self, text):\n",
    "                    try:\n",
    "                        if self._hConsole is None:\n",
    "                            if isinstance(text, unicode):\n",
    "                                text = text.encode('utf-8')\n",
    "                            self._stream.write(text)\n",
    "                        else:\n",
    "                            if not isinstance(text, unicode):\n",
    "                                text = str(text).decode('utf-8')\n",
    "                            remaining = len(text)\n",
    "                            while remaining:\n",
    "                                n = DWORD(0)\n",
    "                                # There is a shorter-than-documented limitation on the\n",
    "                                # length of the string passed to WriteConsoleW (see\n",
    "                                # <http://tahoe-lafs.org/trac/tahoe-lafs/ticket/1232>.\n",
    "                                retval = WriteConsoleW(self._hConsole, text, min(remaining, 10000), byref(n), None)\n",
    "                                if retval == 0 or n.value == 0:\n",
    "                                    raise IOError(\"WriteConsoleW returned %r, n.value = %r\" % (retval, n.value))\n",
    "                                remaining -= n.value\n",
    "                                if not remaining:\n",
    "                                    break\n",
    "                                text = text[n.value:]\n",
    "                    except Exception as e:\n",
    "                        _complain(\"%s.write: %r\" % (self.name, e))\n",
    "                        raise\n",
    "\n",
    "                def writelines(self, lines):\n",
    "                    try:\n",
    "                        for line in lines:\n",
    "                            self.write(line)\n",
    "                    except Exception as e:\n",
    "                        _complain(\"%s.writelines: %r\" % (self.name, e))\n",
    "                        raise\n",
    "\n",
    "            if real_stdout:\n",
    "                sys.stdout = UnicodeOutput(hStdout, None, STDOUT_FILENO, '<Unicode console stdout>')\n",
    "            else:\n",
    "                sys.stdout = UnicodeOutput(None, sys.stdout, old_stdout_fileno, '<Unicode redirected stdout>')\n",
    "\n",
    "            if real_stderr:\n",
    "                sys.stderr = UnicodeOutput(hStderr, None, STDERR_FILENO, '<Unicode console stderr>')\n",
    "            else:\n",
    "                sys.stderr = UnicodeOutput(None, sys.stderr, old_stderr_fileno, '<Unicode redirected stderr>')\n",
    "    except Exception as e:\n",
    "        _complain(\"exception %r while fixing up sys.stdout and sys.stderr\" % (e,))\n",
    "\n",
    "\n",
    "    # While we're at it, let's unmangle the command-line arguments:\n",
    "\n",
    "    # This works around <http://bugs.python.org/issue2128>.\n",
    "    GetCommandLineW = WINFUNCTYPE(LPWSTR)((\"GetCommandLineW\", windll.kernel32))\n",
    "    CommandLineToArgvW = WINFUNCTYPE(POINTER(LPWSTR), LPCWSTR, POINTER(c_int))((\"CommandLineToArgvW\", windll.shell32))\n",
    "\n",
    "    argc = c_int(0)\n",
    "    argv_unicode = CommandLineToArgvW(GetCommandLineW(), byref(argc))\n",
    "\n",
    "    argv = [argv_unicode[i].encode('utf-8') for i in range(0, argc.value)]\n",
    "\n",
    "    if not hasattr(sys, 'frozen'):\n",
    "        # If this is an executable produced by py2exe or bbfreeze, then it will\n",
    "        # have been invoked directly. Otherwise, unicode_argv[0] is the Python\n",
    "        # interpreter, so skip that.\n",
    "        argv = argv[1:]\n",
    "\n",
    "        # Also skip option arguments to the Python interpreter.\n",
    "        while len(argv) > 0:\n",
    "            arg = argv[0]\n",
    "            if not arg.startswith(b\"-\") or arg == u\"-\":\n",
    "                break\n",
    "            argv = argv[1:]\n",
    "            if arg == u'-m':\n",
    "                # sys.argv[0] should really be the absolute path of the module source,\n",
    "                # but never mind\n",
    "                break\n",
    "            if arg == u'-c':\n",
    "                argv[0] = u'-c'\n",
    "                break\n",
    "\n",
    "    # if you like:\n",
    "    sys.argv = argv"
   ]
  },
  {
   "cell_type": "markdown",
   "id": "indonesian-twenty",
   "metadata": {},
   "source": [
    "First, we must specify a global path to our `pyspice` library:"
   ]
  },
  {
   "cell_type": "code",
   "execution_count": null,
   "id": "taken-screen",
   "metadata": {},
   "outputs": [],
   "source": [
    "#exports\n",
    "global_path = r'C:\\Anaconda3\\Lib\\site-packages\\PySpice\\Examples\\libraries\\chaogate'"
   ]
  },
  {
   "cell_type": "markdown",
   "id": "impaired-watts",
   "metadata": {},
   "source": [
    "We will use this to construct the `chaogate`:"
   ]
  },
  {
   "cell_type": "markdown",
   "id": "baking-chicago",
   "metadata": {},
   "source": [
    "# netlist"
   ]
  },
  {
   "cell_type": "code",
   "execution_count": null,
   "id": "reasonable-baltimore",
   "metadata": {},
   "outputs": [],
   "source": [
    "#export\n",
    "def chaogate(path : str = global_path,\n",
    "             Vdd : float = 1.2,\n",
    "             Vin : Optional[float] = 0.45,\n",
    "             Vbias : float = 0.45,\n",
    "             w1 = 120e-9,\n",
    "             w2 = 120e-9,\n",
    "             w3 = 2000e-9,\n",
    "             l1 = 65e-9,\n",
    "             l2 = 65e-9,\n",
    "             l3 = 65e-9,\n",
    "             capacitance : int = 1e-15,\n",
    "             noise : Optional[float] = 0,\n",
    "             noise_type : str = 'gaussian',\n",
    "             noise_duration : int = 1e-9,\n",
    "             noise_delay : int = 0,\n",
    "             time_delay : int = 1e-9,\n",
    "             impedance : int = 50,\n",
    "             TEMP = None\n",
    "            ):\n",
    "    '''\n",
    "    Constructs PySpice circuit object for a chaogate.\n",
    "    \n",
    "    Parameters:\n",
    "    \n",
    "        `path` : location of folder containing following spice files \n",
    "               '65nm_bulk.lib','bsim4.out','bsim4v5.out','nmos.mod','pmos.mod'\n",
    "               \n",
    "        `vdd` : static positive terminal voltage in Volts. \n",
    "            If `noise` is not 0 or None, a random source of `noise_type` \n",
    "            fluctuating about `vdd` with amplitude `noise` is used to \n",
    "            represent the supply voltage, with fluctuation lasting \n",
    "            `noise_duration` ever `noise_delay` seconds.\n",
    "            \n",
    "        `vin` : static input voltage in Volts. \n",
    "            If vin=0 or None, it is replaced with a transmission line having \n",
    "            the `time_delay` and `impedance` args that connects `vin` to `vout`.\n",
    "            \n",
    "        `vbias` : bias voltage in Volts. This changes the MOSFET behavior.\n",
    "        \n",
    "        `widths` : MOSFET widths of the three transistors in Meters\n",
    "        \n",
    "        `lengths` : MOSFET lengths of the three transistors in Meters\n",
    "        \n",
    "        `capacitance` : capacitor constant in Farads\n",
    "    '''\n",
    "    \n",
    "    #setup circuit, library, logger\n",
    "    circuit=Circuit('Three MOSFET Chaogate')\n",
    "    circuit.logger = Logging.setup_logging()\n",
    "    circuit.spice_library = SpiceLibrary(path)\n",
    "    circuit.include(circuit.spice_library['nmos'])\n",
    "    circuit.include(circuit.spice_library['pmos'])\n",
    "    \n",
    "    #give unchanging circuit elements\n",
    "    #convention is <node name>, <positive node name>, <negative node name>, <optional voltage>\n",
    "    circuit.C('load', 'vout', 'vss', u_F(capacitance))\n",
    "    circuit.V('ss', 'vss', circuit.gnd, u_V(0))\n",
    "    circuit.V('bias', 'vbias', circuit.gnd,u_V(Vbias))\n",
    "    \n",
    "    if not noise: #implement zero noise on source\n",
    "        circuit.V('dd','vdd', circuit.gnd, u_V(Vdd))\n",
    "    else: #implement random variation of source voltage\n",
    "        circuit.RandomVoltageSource('dd','vdd', circuit.gnd,\n",
    "                                    random_type='gaussian',\n",
    "                                    duration=noise_duration,\n",
    "                                    time_delay=noise_delay,\n",
    "                                    parameter1=noise,\n",
    "                                    parameter2=Vdd)\n",
    "    \n",
    "    #if vin is not 0 or None, it is a static voltage source\n",
    "    if Vin: \n",
    "        circuit.V('in', 'vin', circuit.gnd, u_V(Vin))\n",
    "    else: #else, we connect vin to vout with a transmission line\n",
    "        circuit.LosslessTransmissionLine('delay', 'vin', circuit.gnd, 'vout', circuit.gnd,\n",
    "                impedance = impedance, \n",
    "                time_delay = time_delay)\n",
    "    \n",
    "    #give mosfet elements\n",
    "    circuit.MOSFET(1, 'vout', 'vin', 'vss', 'vss', model='nmos',\n",
    "                l=l1, w=w1) \n",
    "    circuit.MOSFET(2, 'vout', 'vbias', 'vdd', 'vdd', model='pmos',\n",
    "                l=l2, w=w2)\n",
    "    circuit.MOSFET(3, 'vdd', 'vin', 'vout', 'vss', model='nmos',\n",
    "                l=l3, w=w3)\n",
    "    \n",
    "    return circuit"
   ]
  },
  {
   "cell_type": "code",
   "execution_count": null,
   "id": "hungarian-singing",
   "metadata": {},
   "outputs": [],
   "source": [
    "#export\n",
    "def tup2ar(*t):\n",
    "    '''\n",
    "    Returns inclusive array 'x' of tuple 't' in (start,stop,step) format.\n",
    "    '''\n",
    "    s=(t[0],t[1]+t[2],t[2])\n",
    "    x=np.arange(*s)\n",
    "    #round to number of decimal places\n",
    "    x=np.around(x,np.rint(abs(np.log10(t[-1]))).astype(int)+1)\n",
    "    #cut off anything past bounds\n",
    "    x=x[x<=t[1]]\n",
    "    return x"
   ]
  },
  {
   "cell_type": "markdown",
   "id": "signal-ethnic",
   "metadata": {},
   "source": [
    "We set `Vin` default parameters as properties of the chaogate function, to preserve memory:"
   ]
  },
  {
   "cell_type": "code",
   "execution_count": null,
   "id": "indian-population",
   "metadata": {},
   "outputs": [],
   "source": [
    "#exports\n",
    "chaogate.Vin_tup=(0,1.2,0.01)\n",
    "chaogate.Vin_ar=tup2ar(*chaogate.Vin_tup)\n",
    "chaogate.Vin_slice=slice(*chaogate.Vin_tup)"
   ]
  },
  {
   "cell_type": "markdown",
   "id": "pursuant-occupation",
   "metadata": {},
   "source": [
    "The subsequent dc transfer-function 'sweep' defaults to giving the Vin-Vout transfer curve over Vin=(0,1.2,0.01) by using `tup2ar` on these global parameters:"
   ]
  },
  {
   "cell_type": "code",
   "execution_count": null,
   "id": "handy-seminar",
   "metadata": {},
   "outputs": [],
   "source": [
    "tup2ar(0,1.2,0.01)"
   ]
  },
  {
   "cell_type": "markdown",
   "id": "pursuant-hopkins",
   "metadata": {},
   "source": [
    "# transfer function"
   ]
  },
  {
   "cell_type": "code",
   "execution_count": null,
   "id": "defensive-exhaust",
   "metadata": {},
   "outputs": [],
   "source": [
    "#export\n",
    "@sidis.timer\n",
    "def sweep(*funcs,\n",
    "          **kwargs : Optional[Dict[str,Union[float,tuple]]]\n",
    "      ) -> Union[Dict[str,Array],Array]:\n",
    "    '''\n",
    "\n",
    "    Performs a dc analysis sweep of the input voltage `Vin`, \n",
    "\n",
    "    and optionally over any tuples in `kwargs`. If any `kwargs`\n",
    "\n",
    "    are not tuples, they are treated as circuit parameters for\n",
    "\n",
    "    instantiation. If any of the `kwargs` tuples are keyed by\n",
    "\n",
    "    `Vbias`, `Vdd`, or `TEMP`, they are calculated in a single\n",
    "\n",
    "    sweep using the `simulator().dc` function call. Otherwise,\n",
    "\n",
    "    the chaogate netlist is repeatedly instantiated over the\n",
    "\n",
    "    changing parameters, and the simulator repeatedly called. \n",
    "\n",
    "    Returns a `DataArray` for each `kwargs` containing `vout`\n",
    "\n",
    "    dc function call, and coordinates of the sweeped array(s).\n",
    "\n",
    "    If `funcs` is given, they are mapped over `vout` for each\n",
    "\n",
    "    sweep, and added as coordinates to the returned `DataArray`.\n",
    "\n",
    "    '''\n",
    "    sweep_kwargs = {}\n",
    "    static_kwargs = {}\n",
    "    #partition kwargs into sweep vars and static vars\n",
    "    for k,v in kwargs.items():\n",
    "        if type(v) is tuple:\n",
    "            sweep_kwargs[k]=v\n",
    "        else:\n",
    "            static_kwargs[k]=v\n",
    "    #set default temperature\n",
    "    if static_kwargs.get('TEMP') is not None:\n",
    "        temp=static_kwargs['TEMP']\n",
    "    else:\n",
    "        temp=25\n",
    "    #set default vin sweep if none given\n",
    "    if sweep_kwargs.get('Vin') is None:\n",
    "        Vin_slice=chaogate.Vin_slice\n",
    "        Vin_ar=chaogate.Vin_ar\n",
    "    else:\n",
    "        Vin_tup=sweep_kwargs.pop('Vin')\n",
    "        Vin_slice=slice(*Vin_tup)\n",
    "        Vin_ar=tup2ar(*Vin_tup)\n",
    "    \n",
    "    if not sweep_kwargs: #only sweep vin\n",
    "        cg=chaogate(**static_kwargs)\n",
    "        f=cg.simulator(temperature=temp,nominal_temperature=25).dc\n",
    "        vout=f(Vin=Vin_slice).vout\n",
    "        coords=dict(Vin=Vin_ar)\n",
    "        if funcs: #map functions as coordinates over data\n",
    "            func_res={f.__name__:f(vout) for f in funcs}\n",
    "            coords.update(func_res)\n",
    "        return xr.DataArray(data=vout,\n",
    "                            dims=['Vin'],\n",
    "                            coords=coords,\n",
    "                            name='vout'\n",
    "                           )\n",
    "\n",
    "    res=[] #otherwise we have tuples to sweep\n",
    "    \n",
    "    for k,s in sweep_kwargs.items():\n",
    "        if k=='TEMP' or k=='Vbias' or k=='Vdd': #then sweep in 1 call\n",
    "            cg=chaogate(**static_kwargs)\n",
    "            f=cg.simulator(temperature=temp,nominal_temperature=25).dc\n",
    "            vout=f(Vin=Vin_slice,**{k:slice(*s)}).vout\n",
    "            coord=tup2ar(*s)\n",
    "            vout=np.array(vout.reshape(( coord.size, Vin_ar.size )))\n",
    "            res+=[xr.DataArray(data=vout,\n",
    "                               dims=[k,'Vin'],\n",
    "                               coords={k:coord,'Vin':Vin_ar},\n",
    "                               name='vout'\n",
    "                              )]\n",
    "        else: #have to re-instantiate circuit and loop over attr\n",
    "            coord=tup2ar(*s)\n",
    "            res_k=np.empty((coord.size,Vin_ar.size))\n",
    "            for i,c in enumerate(coord):\n",
    "                new_static_kwargs=copy.copy(static_kwargs)\n",
    "                new_static_kwargs.update({k:c})\n",
    "                cg=chaogate(**new_static_kwargs)\n",
    "                f=cg.simulator(temperature=temp,nominal_temperature=25).dc\n",
    "                vout=f(Vin=Vin_slice).vout\n",
    "                res_k[i]=np.array(vout)\n",
    "            res+=[xr.DataArray(data=res_k,\n",
    "                               dims=[k,'Vin'],\n",
    "                               coords={k:coord,'Vin':Vin_ar},\n",
    "                               name='vout'\n",
    "                              )]\n",
    "\n",
    "    if funcs: #map functions as coordinates over data\n",
    "        for vout in res:\n",
    "            func_res={f.__name__:(vout.dims[0],f(vout.data)) for f in funcs}\n",
    "            vout.coords.update(func_res)\n",
    "\n",
    "    if len(res)==1: #if only 1 sweep, just pass back xar\n",
    "        res=res[0]\n",
    "\n",
    "    return res"
   ]
  },
  {
   "cell_type": "markdown",
   "id": "false-stream",
   "metadata": {},
   "source": [
    "`sweep` returns the Vin-Vout transfer curve as an `xarray.DataArray` object, which contains the useful property of referencing our `coordinates` as well as our `data` as attributes:"
   ]
  },
  {
   "cell_type": "code",
   "execution_count": null,
   "id": "geographic-battle",
   "metadata": {},
   "outputs": [],
   "source": [
    "sweep() #equivalent to sweep(Vin=(0,1.2,0.01)); saves memory w/ global chaogate.Vin_ar"
   ]
  },
  {
   "cell_type": "code",
   "execution_count": null,
   "id": "trying-guest",
   "metadata": {},
   "outputs": [],
   "source": [
    "res=sweep(Vin=(0,1.2,0.1))\n",
    "print(res.coords)"
   ]
  },
  {
   "cell_type": "code",
   "execution_count": null,
   "id": "emotional-progressive",
   "metadata": {},
   "outputs": [],
   "source": [
    "print(res.Vin)"
   ]
  },
  {
   "cell_type": "markdown",
   "id": "executive-illinois",
   "metadata": {},
   "source": [
    "The traditional `numpy.ndarray` is stored in the `data` attribute:"
   ]
  },
  {
   "cell_type": "code",
   "execution_count": null,
   "id": "interim-david",
   "metadata": {},
   "outputs": [],
   "source": [
    "print(res.data)\n",
    "print(type(res.data))"
   ]
  },
  {
   "cell_type": "markdown",
   "id": "unlimited-petite",
   "metadata": {},
   "source": [
    "Any tupled arg besides Vin results in a 2-D `sweep` of all Vin-Vout values over that arg.\n",
    "\n",
    "Any non-tupled args are static netlist parameters for each of these transfer curves."
   ]
  },
  {
   "cell_type": "code",
   "execution_count": null,
   "id": "backed-kennedy",
   "metadata": {},
   "outputs": [],
   "source": [
    "v=sweep(Vin=(0,1.2,0.1),Vbias=(0,1.2,0.3),TEMP=25)\n",
    "for vbias in v.Vbias:\n",
    "    plt.plot(v.Vin,v.sel(Vbias=vbias),label=f'Vbias={vbias.data}')\n",
    "    plt.xlabel('Vin',fontsize=20)\n",
    "    plt.ylabel('Vout',fontsize=20)\n",
    "    plt.legend()"
   ]
  },
  {
   "cell_type": "markdown",
   "id": "basic-madness",
   "metadata": {},
   "source": [
    "Multiple tupled args gives a 2-D array for each tuple:"
   ]
  },
  {
   "cell_type": "code",
   "execution_count": null,
   "id": "commercial-holder",
   "metadata": {},
   "outputs": [],
   "source": [
    "sweep(TEMP=(20,30,5),w1=(60e-9,120e-9,60e-9),Vin=(0,1.2,0.4),l2=120e-9,Vbias=0.9)"
   ]
  },
  {
   "cell_type": "markdown",
   "id": "decimal-mambo",
   "metadata": {},
   "source": [
    "# 1-d maps and chaos"
   ]
  },
  {
   "cell_type": "code",
   "execution_count": null,
   "id": "suburban-delicious",
   "metadata": {},
   "outputs": [],
   "source": [
    "#export\n",
    "@sidis.timer\n",
    "@njit\n",
    "def iterate_map(vout : Array[(Any, ...)],\n",
    "                vin : Array[(Any)] = tup2ar(0,1.2,0.01),\n",
    "                v0 : float = 0.45,\n",
    "                N : int = 2000) -> Array[(2,...)]:\n",
    "    '''\n",
    "    Iterates the map given by `vout` = f(`vin`), `N` times.\n",
    "    `vout` : [...,size(vin)] is an array of all the\n",
    "    chaogate output voltages over the `vin` inputs.\n",
    "    `v0` is the starting voltage. Returns an array\n",
    "    `X` : [vout.shape[:-1],N,2] containing the \n",
    "    map evaluations in the [...,0]th entry and the first \n",
    "    derivatives in the [...,1] entry for each curve of `vout`.\n",
    "    Note, if `vout.shape==vin.shape`, this will return an array\n",
    "    of shape [1,vin.size,2]. \n",
    "    '''\n",
    "    vo = vout.reshape((int(vout.size/vin.size),vout.shape[-1]))\n",
    "    J = vo.shape[0]\n",
    "    X=np.zeros((J,N,2))\n",
    "    dv=vin[1]-vin[0]\n",
    "    for j in range(J):\n",
    "        xn=v0\n",
    "        for i in range(N):\n",
    "            X[j,i,0]=xn\n",
    "            xn=np.interp(x=xn,xp=vin,fp=vo[j])\n",
    "        X[j,:,1]=np.interp(x=X[j,:,0],xp=vin[:-1],fp=np.diff(vo[j]))/dv\n",
    "    return X"
   ]
  },
  {
   "cell_type": "code",
   "execution_count": null,
   "id": "confident-planning",
   "metadata": {},
   "outputs": [],
   "source": [
    "#export\n",
    "def iterate(res,\n",
    "            v0 : float = 0,\n",
    "            N : int = None) -> Array[(2,...)]:\n",
    "    '''\n",
    "    Uses `iterate_map` with a default iteration number \n",
    "    corresponding to the length of the input array `vout`, \n",
    "    and reshapes according to this length. njit is unable\n",
    "    to do this, so we use two functions.\n",
    "    '''\n",
    "    if N is None:\n",
    "        N=res.Vin.shape[-1]\n",
    "    X = iterate_map(res.data,res.Vin.data,v0,N)\n",
    "    dims = list(res.dims)\n",
    "    if len(dims)==1:\n",
    "        dims = []\n",
    "    else:\n",
    "        dims = dims[:-1]\n",
    "    dims += ['Iterations','Derivative']\n",
    "    return xr.DataArray(data=X.reshape(*res.shape[:-1],*X.shape[-2:]),\n",
    "                        dims=dims,\n",
    "                        coords={k:v for k,v in res.coords.items() if k!='Vin'},\n",
    "                        name='iterate'\n",
    "                       )"
   ]
  },
  {
   "cell_type": "markdown",
   "id": "proved-expression",
   "metadata": {},
   "source": [
    "We iterate the chaogate 1-D map by passing in the transfer function, and then interpolating the equation \n",
    "    \n",
    "$V_{n+1} = f(V_{n})$\n",
    "    \n",
    "where $f$ is the interpolated `Vin-Vout` transfer curve obtained from `sweep`. Similarly, we calculate the derivative `f'` through interpolation in order to later calculate the Lyapunov exponent.\n",
    "\n",
    "We define two functions, `iterate_map` and `iterate`, for operating on `numpy.ndarray` and `xarray.DataArray` objects respectively. They both do the same thing, but `iterate_map` is accelerated by `njit` and `iterate` uses `iterate_map` to operate directly off of the `sweep` result:"
   ]
  },
  {
   "cell_type": "code",
   "execution_count": null,
   "id": "transparent-assistant",
   "metadata": {},
   "outputs": [],
   "source": [
    "res=sweep(Vin=(0,1.2,0.001),Vbias=(0,1.2,0.1))\n",
    "itr_xarray=iterate(res)\n",
    "itr_numpy=iterate_map(vout=res.data,vin=res.Vin.data,N=res.shape[-1],v0=0)\n",
    "print(itr_numpy.shape,itr_xarray.shape)"
   ]
  },
  {
   "cell_type": "code",
   "execution_count": null,
   "id": "informal-settlement",
   "metadata": {},
   "outputs": [],
   "source": [
    "np.all(itr_numpy==itr_xarray.data)"
   ]
  },
  {
   "cell_type": "code",
   "execution_count": null,
   "id": "attempted-exercise",
   "metadata": {},
   "outputs": [],
   "source": [
    "plt.xlabel(r'$n$',fontsize=20)\n",
    "plt.ylabel(r'$V_{n}$',fontsize=20)\n",
    "plt.plot(itr_xarray.sel(Vbias=0.9)[:10,0])"
   ]
  },
  {
   "cell_type": "markdown",
   "id": "effective-apparel",
   "metadata": {},
   "source": [
    "How do we know if the system is chaotic? We calculate the `lyapunov` exponent, which for a 1-D map is defined by \n",
    "\n",
    "$\\lambda(x) = \\sum_{i=0}^{i=len(x)} |\\log(f'(x_{i}))|$\n",
    "   \n",
    "If $\\lambda>0$, the system is chaotic. In our function definition we assume we have used the `iterate` function to obtain the derivative sequence as the `itr[...,1]` entry, and include some typecasting to parse `xarray.DataArray` objects vs. `numpy.ndarray`s."
   ]
  },
  {
   "cell_type": "code",
   "execution_count": null,
   "id": "modern-hazard",
   "metadata": {},
   "outputs": [],
   "source": [
    "#export\n",
    "def lyapunov(x : Array[Any,...], replace_zeros_with : Union[int,float] = 0.01):\n",
    "    '''\n",
    "    Returns average Lyapunov exponent of array 'x'.\n",
    "    Replaces zeros with `replace_zeros_with` to \n",
    "    calculate log correctly.\n",
    "    '''\n",
    "    if isinstance(x,xr.DataArray): #assume iterate map\n",
    "        y=np.abs(x.data[...,1],dtype=np.float64)\n",
    "    else:\n",
    "        y=np.abs(x,dtype=np.float64)\n",
    "    y[y==0]=replace_zeros_with\n",
    "    y=np.log(y)\n",
    "    y=np.mean(y,axis=-1)\n",
    "    if not isinstance(x,xr.DataArray):\n",
    "        return y\n",
    "    else:\n",
    "        return xr.DataArray(data=y,\n",
    "                            dims=list(x.dims)[:-2],\n",
    "                            coords=x.coords,\n",
    "                            name='lyapunov'\n",
    "                           )"
   ]
  },
  {
   "cell_type": "code",
   "execution_count": null,
   "id": "amino-accommodation",
   "metadata": {},
   "outputs": [],
   "source": [
    "lyapunov(itr_numpy[...,1])"
   ]
  },
  {
   "cell_type": "code",
   "execution_count": null,
   "id": "blank-wilson",
   "metadata": {},
   "outputs": [],
   "source": [
    "print(lyapunov(itr_xarray))"
   ]
  },
  {
   "cell_type": "markdown",
   "id": "sufficient-knock",
   "metadata": {},
   "source": [
    "Now, it will be convenient to calculate a full sweep over a `grid`, i.e, to include every combination of the `sweep` parameters:"
   ]
  },
  {
   "cell_type": "markdown",
   "id": "broadband-costa",
   "metadata": {},
   "source": [
    "# parameter space and bifurcation"
   ]
  },
  {
   "cell_type": "code",
   "execution_count": null,
   "id": "velvet-assistant",
   "metadata": {},
   "outputs": [],
   "source": [
    "#export\n",
    "@sidis.timer\n",
    "def grid(**kwargs):\n",
    "    '''\n",
    "    Like 'sweep', but over all combinations of the `kwargs` tuples.\n",
    "    Returns a `kwargs`-dimensional hybercube ranging over all the\n",
    "    supplied tuples, in the form of an `xarray.DataArray` object.\n",
    "    '''\n",
    "    #partition kwargs into loops and static attrs\n",
    "    if kwargs.get('Vin') is None:\n",
    "        Vin = chaogate.Vin_tup\n",
    "    else:\n",
    "        Vin = kwargs.get('Vin')\n",
    "        \n",
    "    sweep_kwargs = {'Vin':Vin}\n",
    "    static_kwargs = {}\n",
    "    for k,v in kwargs.items():\n",
    "        if type(v) is tuple:\n",
    "            sweep_kwargs[k]=v\n",
    "        else:\n",
    "            static_kwargs[k]=v\n",
    "    \n",
    "    #sort loops by giving order of attrs; placing sweeps as inner loops\n",
    "    key={kwarg:3 for kwarg in kwargs}\n",
    "    key['Vin']=-1\n",
    "    key['Vbias']=0\n",
    "    key['Vdd']=1\n",
    "    key['TEMP']=2\n",
    "    #get number of inner loops for callable dc args; iterate over rest\n",
    "    n_inner_loops = 2 if ('Vbias' in sweep_kwargs or 'Vdd' in sweep_kwargs \\\n",
    "                          or 'TEMP' in sweep_kwargs) else 1\n",
    "    #print(n_inner_loops)\n",
    "    sweep_kwargs=list(sweep_kwargs.items())\n",
    "    sweep_kwargs.sort(key=lambda t:key[t[0]],reverse=True)\n",
    "    \n",
    "    #get dict of inner slice for dc function call\n",
    "    inner_slice={sweep_kwargs[-n_inner_loops][0]:slice(*sweep_kwargs[-n_inner_loops][1])}\n",
    "    sweep_kwargs=dict(sweep_kwargs)\n",
    "    \n",
    "    #get coordinates as dict of arrays for every sweep\n",
    "    coords={k:tup2ar(*v) for k,v in sweep_kwargs.items()}\n",
    "    \n",
    "    #get sizes of array\n",
    "    sizes=[c.size for c in coords.values()]\n",
    "    \n",
    "    #create array holding output of dc function calls over grid of coords\n",
    "    arr=np.zeros(tuple(sizes))\n",
    "    \n",
    "    #truncate coords up to inner value for function calls\n",
    "    static_arg_list=list(coords.items())[:-n_inner_loops]\n",
    "    \n",
    "    #loop over ndindex of outer loops, call inner as sweep\n",
    "    #use tqdm as progress bar, give total length of outer loop\n",
    "    for s in tqdm(np.ndindex(arr.shape[:-n_inner_loops]), \n",
    "                  total=np.prod(arr.shape[:-n_inner_loops])):\n",
    "        \n",
    "        #index static args and feed to chaogate netlist\n",
    "        static_args={k:v[s[i]] for i,(k,v) in enumerate(static_arg_list)}\n",
    "        circuit=chaogate(**static_args)\n",
    "        \n",
    "        #get temperature of current sweep\n",
    "        if static_args.get('TEMP') is None:\n",
    "            temp=25\n",
    "        else:\n",
    "            temp=static_args.get('TEMP')\n",
    "            \n",
    "        #perform sweep, feed to array\n",
    "        f=circuit.simulator(temperature=temp,nominal_temperature=25).dc\n",
    "        vout=f(Vin=slice(*Vin),**inner_slice).vout\n",
    "        arr[s]=np.array(vout.reshape(( arr.shape[-2], arr.shape[-1] )))\n",
    "    \n",
    "    #return as xar object containing coords and any func calls\n",
    "    res=xr.DataArray(data=arr,dims=list(coords),coords=coords,name='vout')\n",
    "    \n",
    "    return res"
   ]
  },
  {
   "cell_type": "markdown",
   "id": "czech-principal",
   "metadata": {},
   "source": [
    "`grid` sweeps over all combinations of the input parameters:"
   ]
  },
  {
   "cell_type": "code",
   "execution_count": null,
   "id": "julian-peter",
   "metadata": {},
   "outputs": [],
   "source": [
    "g = grid(Vin=(0,1.2,0.01),Vbias=(0,1.2,0.01),Vdd=(1.15,1.25,0.01))"
   ]
  },
  {
   "cell_type": "code",
   "execution_count": null,
   "id": "conditional-eight",
   "metadata": {},
   "outputs": [],
   "source": [
    "print(g)"
   ]
  },
  {
   "cell_type": "markdown",
   "id": "variable-penguin",
   "metadata": {},
   "source": [
    "Next, we will convert the grid to a `xarray.Dataset` object in order to add fields for the `iterate` and `lyapunov` data over the full parameter space. We do this through a simple conversion and dictionary update:"
   ]
  },
  {
   "cell_type": "code",
   "execution_count": null,
   "id": "actual-tampa",
   "metadata": {},
   "outputs": [],
   "source": [
    "ds=g.to_dataset()\n",
    "print(ds)"
   ]
  },
  {
   "cell_type": "markdown",
   "id": "synthetic-quebec",
   "metadata": {},
   "source": [
    "We must specify the dimensions over which the new data are to be added. We calculate the iteration with 2000 points, and discard the first 500 as a transient. Then, we parse the original dimensions to remove the last entry (`Vin`) as we don't use this in the calculation. We also add a new dimension for the iterations:"
   ]
  },
  {
   "cell_type": "code",
   "execution_count": null,
   "id": "adequate-insulin",
   "metadata": {},
   "outputs": [],
   "source": [
    "itr=iterate(g,N=2000)\n",
    "lya=lyapunov(itr[...,500:,:])\n",
    "ds.update(dict(lyapunov=(list(g.dims)[:-1],lya),\n",
    "              iterate=(list(g.dims)[:-1]+['Iterations'],itr[...,500:,0])\n",
    "              ))\n",
    "print(ds)"
   ]
  },
  {
   "cell_type": "markdown",
   "id": "outer-penny",
   "metadata": {},
   "source": [
    "Now, we can easily extract the maximum lyapunov exponent in parameter space by using the `argmax` and `isel` methods."
   ]
  },
  {
   "cell_type": "code",
   "execution_count": null,
   "id": "capable-complex",
   "metadata": {},
   "outputs": [],
   "source": [
    "lmax=ds.isel(ds.lyapunov.argmax(...)) #(...) means all dimensions; could do e.g ['Vbias'] for variation over Vdd\n",
    "print(lmax)"
   ]
  },
  {
   "cell_type": "markdown",
   "id": "accomplished-artist",
   "metadata": {},
   "source": [
    "We see the greatest lyapunov exponent is at `Vdd=1.16, Vbias=0.43`. Of course, we can extract the same information using the data itself and numpy, it's just more clunky and requires us to backtrack to find the coordinate indices..."
   ]
  },
  {
   "cell_type": "code",
   "execution_count": null,
   "id": "spiritual-while",
   "metadata": {},
   "outputs": [],
   "source": [
    "ds.lyapunov.data[np.unravel_index(np.argmax(ds.lyapunov.data),ds.lyapunov.data.shape)]"
   ]
  },
  {
   "cell_type": "markdown",
   "id": "appropriate-journal",
   "metadata": {},
   "source": [
    "Now, we package this functionality (calculating `iterate` and `lyapunov`) into a pipeline `bifurcate`:"
   ]
  },
  {
   "cell_type": "code",
   "execution_count": null,
   "id": "attractive-defensive",
   "metadata": {},
   "outputs": [],
   "source": [
    "#export\n",
    "def bifurcate(res=None,\n",
    "              v0=0,\n",
    "              T=500,\n",
    "              N=1000,\n",
    "              as_grid=False,\n",
    "              **kwargs):\n",
    "    '''\n",
    "    Creates a bifurcation of the system about the given parameters.\n",
    "\n",
    "    If `as_grid`, the result is assumed to be evaluated over a grid; \n",
    "    \n",
    "    else, a `sweep` is assumed. If `res` is None, it is evaluated over\n",
    "    \n",
    "    `kwargs`. Iterates the resulting system `res` N times starting from \n",
    "    \n",
    "    `v0` using `iterate`, discarding the transient specified by the first \n",
    "    \n",
    "    `T` points. Calculates the `lyapunov` exponent over the iterated map, \n",
    "    \n",
    "    and returns a `xarray.Dataset`. If not `as_grid`, the dataset has\n",
    "    \n",
    "    a different variable for each of the specified `kwargs` sweeps; else,\n",
    "    \n",
    "    there is a single variable for `vout`, `lyapunov`, and `iterate`.\n",
    "\n",
    "    Example use: \n",
    "\n",
    "        bifurcate(\n",
    "            Vbias = (0,1.2,0.01),\n",
    "            Vdd = (1.1,1.3,0.1),\n",
    "            TEMP = (20,30,5),\n",
    "            as_grid = True\n",
    "        )\n",
    "\n",
    "    '''\n",
    "    if not as_grid:\n",
    "        if res is None: \n",
    "            res=sweep(**kwargs)\n",
    "    \n",
    "        if not isinstance(res,list): \n",
    "            res=[res]\n",
    "        coords={'Vin':res[0].Vin}\n",
    "        coords.update({r.dims[0]:r.coords[r.dims[0]] for r in res})\n",
    "        ds=xr.Dataset(data_vars={'vout_'+r.dims[0]:(r.dims,r) for r in res},\n",
    "                     coords=coords)\n",
    "        for k,v in ds.data_vars.items():\n",
    "            itr=iterate(v,N=N,v0=v0)\n",
    "            lya=lyapunov(itr[...,T:,:])\n",
    "            ds.update({\n",
    "                'iterate_'+k[5:]:([v.dims[0],'Iterations'],itr[...,0]),\n",
    "                'lyapunov_'+k[5:]:(v.dims[0],lya)\n",
    "            })\n",
    "    else:\n",
    "        if res is None:\n",
    "            res=grid(**kwargs)\n",
    "        ds=res.to_dataset()\n",
    "        itr=iterate(res,N=N,v0=v0)\n",
    "        lya=lyapunov(itr[...,T:,:])\n",
    "        ds.update(dict(lyapunov=(list(res.dims)[:-1],lya),\n",
    "                       iterate=(list(res.dims)[:-1]+['Iterations'],itr[...,0])\n",
    "                      )\n",
    "                 )\n",
    "\n",
    "    return ds"
   ]
  },
  {
   "cell_type": "code",
   "execution_count": null,
   "id": "composed-choice",
   "metadata": {},
   "outputs": [],
   "source": [
    "b=bifurcate(Vbias=(0,1.2,0.01))\n",
    "print(b)"
   ]
  },
  {
   "cell_type": "markdown",
   "id": "visible-philippines",
   "metadata": {},
   "source": [
    "We can visualize bifurcation as the expansion or contraction of the system's state-space as a parameter is varied. We visualize this by plotting the set of iterations on the Y-axis, and the system parameter on the X-axis, with chaotic points in red"
   ]
  },
  {
   "cell_type": "code",
   "execution_count": null,
   "id": "alpha-chicago",
   "metadata": {},
   "outputs": [],
   "source": [
    "fig,ax = plt.subplots()\n",
    "xaxis = b.Vbias.data\n",
    "yvalues = b.iterate_Vbias.data\n",
    "lyapunovs = b.lyapunov_Vbias.data\n",
    "for i,(x,y) in enumerate(zip(xaxis, yvalues)): # (x,[set of y]) pairs\n",
    "    color='tab:red' if lyapunovs[i]>0 else 'tab:blue' #red if chaotic\n",
    "    ax.scatter([x] * len(y), y, s=.1, color=color)\n",
    "ax.set_xlabel(r'$V_{bias}$',fontsize=20)\n",
    "ax.set_ylabel(r'$V_{n}$',fontsize=20)\n",
    "\n",
    "plt.show()"
   ]
  },
  {
   "cell_type": "markdown",
   "id": "announced-reconstruction",
   "metadata": {},
   "source": [
    "Next we will evaluate these properties over an entire grid and test the computational stability of the chaogate."
   ]
  },
  {
   "cell_type": "code",
   "execution_count": null,
   "id": "radical-laugh",
   "metadata": {},
   "outputs": [],
   "source": [
    "ds=bifurcate(Vbias=(0,1.2,0.01),Vdd=(1.15,1.25,0.001),as_grid=True)\n",
    "print(ds)"
   ]
  },
  {
   "cell_type": "markdown",
   "id": "defined-eating",
   "metadata": {},
   "source": [
    "Now, let's examine the Hamming distances for the iterated maps. We will use this to gauge the stability of the system for computation; if one of the parameters varies, we don't want the bitstream to diverge, or it can't be used for stable logic"
   ]
  },
  {
   "cell_type": "markdown",
   "id": "prescription-occupation",
   "metadata": {},
   "source": [
    "# booleanization and computational stability"
   ]
  },
  {
   "cell_type": "code",
   "execution_count": null,
   "id": "vocational-sweden",
   "metadata": {},
   "outputs": [],
   "source": [
    "#export\n",
    "@njit\n",
    "def booleanize_ar(vn, threshold=None):\n",
    "    '''\n",
    "    Convert the numpy array `vn` into a bitstream\n",
    "    according to `threshold`; values of `vn>=threshold`\n",
    "    will be set to `1`, and values of `vn<threshold`\n",
    "    will be set to `0`. If `threshold` is not supplied,\n",
    "    it defaults to halfway between the range of `vn`.\n",
    "    '''\n",
    "    if threshold is None:\n",
    "        threshold=(np.max(vn)-np.min(vn))/2\n",
    "    B=np.empty(vn.shape)\n",
    "    for s in np.ndindex(vn.shape):\n",
    "        if vn[s]>=threshold:\n",
    "            B[s]=1\n",
    "        else:\n",
    "            B[s]=0\n",
    "    return B"
   ]
  },
  {
   "cell_type": "code",
   "execution_count": null,
   "id": "baking-smile",
   "metadata": {},
   "outputs": [],
   "source": [
    "#export\n",
    "def booleanize(vn, threshold=None):\n",
    "    '''\n",
    "    Like `booleanize_ar`, but with typecasting\n",
    "    for `xarray.DataArray` inputs.\n",
    "    '''\n",
    "    if isinstance(vn,xr.DataArray):\n",
    "        B=booleanize_ar(vn.data,threshold)\n",
    "        return vn.copy(deep=False,data=B)\n",
    "    else:\n",
    "        return booleanize_ar(vn,threshold)"
   ]
  },
  {
   "cell_type": "markdown",
   "id": "fewer-valley",
   "metadata": {},
   "source": [
    "The output of the analog system must be `booleanize`d in order to produce a bitstream, or sequence of 0s and 1s. This is done by rounding about some threshold."
   ]
  },
  {
   "cell_type": "code",
   "execution_count": null,
   "id": "wrong-moral",
   "metadata": {},
   "outputs": [],
   "source": [
    "booleanize(np.array([0,0.5,1,0.7,0.2]),threshold=0.5)"
   ]
  },
  {
   "cell_type": "code",
   "execution_count": null,
   "id": "later-intranet",
   "metadata": {},
   "outputs": [],
   "source": [
    "booleanize(np.array([0,0.5,0.2,0.25]),threshold=None) #defaults to (max=0.5 - min=0)/2"
   ]
  },
  {
   "cell_type": "code",
   "execution_count": null,
   "id": "declared-verification",
   "metadata": {},
   "outputs": [],
   "source": [
    "#export\n",
    "def boolean_gradient(vn , threshold=None, dimensions_up_to=-1):\n",
    "    '''\n",
    "    Compute the `booleanize`d gradient of the \n",
    "    iterated map `vn`. \n",
    "    '''\n",
    "    B = booleanize(vn,threshold)\n",
    "    axes = tuple([i for i,s in enumerate(B.shape[:dimensions_up_to])])\n",
    "    grad = np.gradient(B,axis=axes)\n",
    "    if not isinstance(grad,list):\n",
    "        grad = list(grad)\n",
    "    grad = np.array(grad)\n",
    "    return grad"
   ]
  },
  {
   "cell_type": "code",
   "execution_count": null,
   "id": "equipped-clinic",
   "metadata": {},
   "outputs": [],
   "source": [
    "grad = boolean_gradient(ds.iterate)"
   ]
  },
  {
   "cell_type": "code",
   "execution_count": null,
   "id": "polished-charge",
   "metadata": {},
   "outputs": [],
   "source": [
    "grad.shape"
   ]
  },
  {
   "cell_type": "markdown",
   "id": "heard-market",
   "metadata": {},
   "source": [
    "The first entry in grad is the matrix derivative along each direction; here, along Vdd and Vcc.\n",
    "The rest mimics the shape of the original input."
   ]
  },
  {
   "cell_type": "code",
   "execution_count": null,
   "id": "military-airport",
   "metadata": {},
   "outputs": [],
   "source": [
    "#export\n",
    "def boolean_divergence(grad , N=-1, normalize=False):\n",
    "    '''\n",
    "    Compute the divergence of the absolute value of the \n",
    "    `boolean_gradient` `grad` after `N` iterations.\n",
    "    If `normalize`, divide the result by the max.\n",
    "    '''\n",
    "    #first get hamming distances over iterations\n",
    "    div = np.mean(np.abs(grad[...,:N]),axis=-1)\n",
    "    #now average over each matrix derivative direction\n",
    "    div = np.mean(div,axis=0)\n",
    "    if normalize:\n",
    "        div /=np.max(div)\n",
    "    return div"
   ]
  },
  {
   "cell_type": "code",
   "execution_count": null,
   "id": "invalid-diagnosis",
   "metadata": {},
   "outputs": [],
   "source": [
    "div = boolean_divergence(grad)"
   ]
  },
  {
   "cell_type": "code",
   "execution_count": null,
   "id": "impaired-bumper",
   "metadata": {},
   "outputs": [],
   "source": [
    "div.shape"
   ]
  },
  {
   "cell_type": "markdown",
   "id": "comfortable-angel",
   "metadata": {},
   "source": [
    "The divergence has the shape of the parameter axes, as it averaged over the iterations."
   ]
  },
  {
   "cell_type": "code",
   "execution_count": null,
   "id": "corresponding-european",
   "metadata": {},
   "outputs": [],
   "source": [
    "plt.matshow(div)\n",
    "plt.colorbar()"
   ]
  },
  {
   "cell_type": "markdown",
   "id": "split-parish",
   "metadata": {},
   "source": [
    "The x-axis is Vcc, and the y-axis is Vdd. \n",
    "\n",
    "Now let's compare the divergence to the chaotic regions, where the Lyapunov exponent >0"
   ]
  },
  {
   "cell_type": "code",
   "execution_count": null,
   "id": "metallic-mixer",
   "metadata": {},
   "outputs": [],
   "source": [
    "plt.matshow((ds.lyapunov.data>0)*ds.lyapunov.data)\n",
    "plt.colorbar()"
   ]
  },
  {
   "cell_type": "markdown",
   "id": "prime-merchandise",
   "metadata": {},
   "source": [
    "We see they have similar structure. For chaotic logic, we are interested in minimizing their overlap; we want the divergence to be minimal (small logic error), and the lyapunov exponent to be positive (chaos). To that end we can take a normalized linear combination, weighting the divergence by -1 and the lyapunov exponent by +1"
   ]
  },
  {
   "cell_type": "code",
   "execution_count": null,
   "id": "enclosed-crown",
   "metadata": {},
   "outputs": [],
   "source": [
    "normalized_lyapunov = (ds.lyapunov.data>0)*ds.lyapunov.data/np.max(ds.lyapunov.data)\n",
    "normalized_divergence = div/np.max(div) \n",
    "optimizer = normalized_lyapunov - normalized_divergence \n",
    "plt.matshow(optimizer)\n",
    "plt.colorbar()"
   ]
  },
  {
   "cell_type": "markdown",
   "id": "transparent-transition",
   "metadata": {},
   "source": [
    "We can now use this as an optimization metric in our future efforts to create the \"best\" chaogate"
   ]
  },
  {
   "cell_type": "code",
   "execution_count": null,
   "id": "abroad-wichita",
   "metadata": {},
   "outputs": [],
   "source": [
    "sidis.refresh()"
   ]
  },
  {
   "cell_type": "code",
   "execution_count": null,
   "id": "wireless-watch",
   "metadata": {},
   "outputs": [],
   "source": []
  }
 ],
 "metadata": {
  "kernelspec": {
   "display_name": "Python 3",
   "language": "python",
   "name": "python3"
  }
 },
 "nbformat": 4,
 "nbformat_minor": 5
}
